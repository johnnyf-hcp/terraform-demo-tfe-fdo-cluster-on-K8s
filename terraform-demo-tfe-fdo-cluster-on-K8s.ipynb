{
 "cells": [
  {
   "cell_type": "markdown",
   "metadata": {},
   "source": [
    "# HashiCorp Terraform Demo for Flexible Deployment Options (FDO) - Deploy Terraform Enterprise (TFE) on Kubernetes (K8s)\n",
    "\n",
    "This is still WIP.  Not fully working.\n",
    "\n",
    "This demo shows how the new TFE FDO (introduced in v202309-1) can be used to deploy a TFE setup in External Services mode on Kubernetes.   This means that the TFE data is stored externally of the TFE nodes.  This includes:\n",
    "- PostgreSQL database (for storing metadata)\n",
    "- S3-compatible blob storage (for storing terraform state files, configurations)\n",
    "- Redis (cache for running transactions)\n",
    "\n",
    "For performance reasons, the demo configures a single TFE node.  However, note that it can easily scale to 2 or more nodes as needed by modifying the number of replicas in the helm chart config.\n",
    "\n",
    "Ref:\n",
    "- https://developer.hashicorp.com/terraform/enterprise/replicated/install/operation-modes#operational-modes\n",
    "- https://developer.hashicorp.com/terraform/enterprise/flexible-deployments/install/kubernetes/requirements\n",
    "- https://developer.hashicorp.com/terraform/enterprise/flexible-deployments/install/kubernetes/install\n",
    "- https://developer.hashicorp.com/terraform/enterprise/flexible-deployments/install/configuration\n",
    "- https://github.com/hashicorp/terraform-enterprise-helm/blob/main/values.yaml\n",
    "\n",
    "\n",
    "The diagram below is a visual representation of this configuration.\n",
    "<br>\n",
    "<br>\n",
    "\n",
    "<img src=\"\">\n",
    "\n",
    "## Setup of the Demo\n",
    "\n",
    "This setup is tested on MacOS and is meant to simulate a distributed setup.  The components used in this demo are:\n",
    "- Vault Enterprise installed on docker (to simulate an external Vault).  This will be used for PKI certificate generation.\n",
    "- PostgreSQL installed on docker (to simulate an external PostgreSQL database for the TFE setup)\n",
    "- MinIO installed on docker (to simulate the external S3-compatible blob storage)\n",
    "- Minikube (to simulate a K8s cluster)\n",
    "\n",
    "Note that we will be using the docker and minikube routing to the host machine for communication between the docker postgres/minio pods and the Kubernetes cluster.  The host machine will function as a network bridge for communication.\n",
    "\n",
    "## Requirements to Run This Demo\n",
    "You will need Visual Studio Code to be installed with the Jupyter plugin.  To run this notebook in VS Code, chose the Jupyter kernel and then Bash.\n",
    "- To run the current cell, use Ctrl + Enter.\n",
    "- To run the current cell and advance to the next, use Shift+Enter."
   ]
  },
  {
   "cell_type": "markdown",
   "metadata": {},
   "source": [
    "# Setup Pre-requisites (One-time)\n",
    "\n",
    "Assumes you have docker installed and brew installed\n",
    "\n",
    "- https://docs.docker.com/desktop/install/mac-install/\n",
    "- https://brew.sh/"
   ]
  },
  {
   "cell_type": "code",
   "execution_count": null,
   "metadata": {
    "vscode": {
     "languageId": "shellscript"
    }
   },
   "outputs": [],
   "source": [
    "# Install minikube\n",
    "brew install minikube"
   ]
  },
  {
   "cell_type": "code",
   "execution_count": null,
   "metadata": {
    "vscode": {
     "languageId": "shellscript"
    }
   },
   "outputs": [],
   "source": [
    "# Install Kubectl CLI\n",
    "brew install kubernetes-cli"
   ]
  },
  {
   "cell_type": "code",
   "execution_count": null,
   "metadata": {
    "vscode": {
     "languageId": "shellscript"
    }
   },
   "outputs": [],
   "source": [
    "# Install Helm CLI.  This is used to install the VSO helm chart.\n",
    "brew install helm"
   ]
  },
  {
   "cell_type": "code",
   "execution_count": null,
   "metadata": {
    "vscode": {
     "languageId": "shellscript"
    }
   },
   "outputs": [],
   "source": [
    "# Install K9s.  This is a nice console GUI for K8s.  https://k9scli.io/\n",
    "brew install K9s"
   ]
  },
  {
   "cell_type": "code",
   "execution_count": null,
   "metadata": {
    "vscode": {
     "languageId": "shellscript"
    }
   },
   "outputs": [],
   "source": [
    "# Install latest MinIO client\n",
    "brew install minio/stable/mc"
   ]
  },
  {
   "cell_type": "code",
   "execution_count": null,
   "metadata": {
    "vscode": {
     "languageId": "shellscript"
    }
   },
   "outputs": [],
   "source": [
    "# Install AWS CLI\n",
    "brew install awscli"
   ]
  },
  {
   "cell_type": "code",
   "execution_count": null,
   "metadata": {
    "vscode": {
     "languageId": "shellscript"
    }
   },
   "outputs": [],
   "source": [
    "# Installing Docker Desktop will add this entry in your /etc/hosts file\n",
    "#   127.0.0.1 kubernetes.docker.internal\n",
    "# Verify that kubernetes.docker.internal is resolvable to 127.0.0.1 loopback address\n",
    "# We will using this to connect to the TFE setup with TLS\n",
    "ping -c 3 kubernetes.docker.internal\n",
    "\n",
    "# Also verify that port 443 is not used on kubernetes.docker.internal\n",
    "# You should get a \"Connection refused\" error.\n",
    "curl -v telnet://kubernetes.docker.internal:443"
   ]
  },
  {
   "cell_type": "markdown",
   "metadata": {},
   "source": [
    "# Setting Up the Vault, PostgreSQL servers and K8s cluster\n",
    "## Setup Vault for PKI certificate services"
   ]
  },
  {
   "cell_type": "code",
   "execution_count": null,
   "metadata": {
    "vscode": {
     "languageId": "shellscript"
    }
   },
   "outputs": [],
   "source": [
    "# For this demo, we will be simulating a Vault server that is hosted external from the K8s cluster.  i.e. in Docker.\n",
    "export VAULT_PORT=8200\n",
    "export VAULT_ADDR=\"http://127.0.0.1:${VAULT_PORT}\"\n",
    "export VAULT_TOKEN=\"root\"\n",
    "\n",
    "# Change the path to your license file\n",
    "export VAULT_LICENSE=$(cat $HOME/vault-enterprise/vault_local/data/vault.hclic)\n",
    "\n",
    "# Refresh Vault docker image with latest version\n",
    "#docker pull hashicorp/vault-enterprise\n",
    "\n",
    "# Optional: To pull latest image\n",
    "#docker pull hashicorp/vault-enterprise:latest\n",
    "\n",
    "# Run Vault in docker in Dev mode with Enterprise license.\n",
    "# We have set VAULT_LOG_LEVEL to trace for troubleshooting purposes.  This will allow you to view detailed information as you test.\n",
    "docker run -d --rm --name vault-enterprise --cap-add=IPC_LOCK \\\n",
    "-e \"VAULT_DEV_ROOT_TOKEN_ID=${VAULT_TOKEN}\" \\\n",
    "-e \"VAULT_DEV_LISTEN_ADDRESS=:${VAULT_PORT}\" \\\n",
    "-e \"VAULT_LICENSE=${VAULT_LICENSE}\" \\\n",
    "-e \"VAULT_LOG_LEVEL=trace\" \\\n",
    "-p ${VAULT_PORT}:${VAULT_PORT} hashicorp/vault-enterprise:latest"
   ]
  },
  {
   "cell_type": "code",
   "execution_count": null,
   "metadata": {
    "vscode": {
     "languageId": "shellscript"
    }
   },
   "outputs": [],
   "source": [
    "# Optional: You can enable file audit device for more information\n",
    "docker exec -it vault-enterprise /bin/sh -c \"mkdir /var/log/vault.d\"\n",
    "docker exec -it vault-enterprise /bin/sh -c \"touch /var/log/vault.d/vault_audit.log\"\n",
    "docker exec -it vault-enterprise /bin/sh -c \"chown -R vault:vault /var/log/vault.d\"\n",
    "vault audit enable file file_path=/var/log/vault.d/vault_audit.log\n",
    "\n",
    "# You can run the following command in the container terminal to follow the logs\n",
    "# tail -f /var/log/vault.d/vault_audit.log\n",
    "# Or you can run it from outside on your host machine\n",
    "# docker exec -it vault-enterprise /bin/sh -c \"tail -f /var/log/vault.d/vault_audit.log\"\n",
    "# Use Ctrl + C to break"
   ]
  },
  {
   "cell_type": "markdown",
   "metadata": {},
   "source": [
    "## Setup TFE External Services\n",
    "\n",
    "TFE External Services covers:\n",
    "- PostgreSQL\n",
    "- Blob Storage\n",
    "- Redis\n",
    "\n",
    "Ref: https://developer.hashicorp.com/terraform/enterprise/flexible-deployments/install/requirements/data-storage/postgres-requirements"
   ]
  },
  {
   "cell_type": "code",
   "execution_count": null,
   "metadata": {
    "vscode": {
     "languageId": "shellscript"
    }
   },
   "outputs": [],
   "source": [
    "# Run a PostgreSQL database for TFE storage\n",
    "# Make sure it is a supported version.\n",
    "# Ref: https://developer.hashicorp.com/terraform/enterprise/flexible-deployments/install/requirements/data-storage/postgres-requirements\n",
    "export PGUSER=root\n",
    "export PGPASSWORD=mypassword\n",
    "export PGPORT=5432\n",
    "\n",
    "# Optional: To pull latest image\n",
    "#docker pull postgres:15\n",
    "\n",
    "# Run latest 15.x version\n",
    "docker run --name postgres \\\n",
    "     -p $PGPORT:$PGPORT \\\n",
    "     --rm \\\n",
    "     -e POSTGRES_USER=$PGUSER \\\n",
    "     -e POSTGRES_PASSWORD=$PGPASSWORD \\\n",
    "     -d postgres:15"
   ]
  },
  {
   "cell_type": "code",
   "execution_count": null,
   "metadata": {
    "vscode": {
     "languageId": "shellscript"
    }
   },
   "outputs": [],
   "source": [
    "# Run a MinIO container for the S3 compatible blob storage\n",
    "# Ref: https://min.io/docs/minio/container/index.html\n",
    "export MINIO_ROOT_USER=root\n",
    "export MINIO_ROOT_PASSWORD=mypassword\n",
    "export MINIO_API_PORT=9080 # I switched from default 9000 to 9080 as there is a Mac app that is running on that port after my Mac update\n",
    "export MINIO_CONSOLE_PORT=9090\n",
    "\n",
    "#docker stop minio\n",
    "#rm -r ${HOME}/minio\n",
    "# Create a path for the blob storage external to the container\n",
    "mkdir -p ${HOME}/minio/data\n",
    "\n",
    "# Optional: To pull latest image\n",
    "#docker pull quay.io/minio/minio\n",
    "\n",
    "docker run \\\n",
    "    -p $MINIO_API_PORT:$MINIO_API_PORT \\\n",
    "    -p $MINIO_CONSOLE_PORT:$MINIO_CONSOLE_PORT \\\n",
    "    --name minio \\\n",
    "    --rm \\\n",
    "    -v ${HOME}/minio/data:/data \\\n",
    "    --user $(id -u):$(id -g) \\\n",
    "    -e \"MINIO_ROOT_USER=$MINIO_ROOT_USER\" \\\n",
    "    -e \"MINIO_ROOT_PASSWORD=$MINIO_ROOT_PASSWORD\" \\\n",
    "    -d quay.io/minio/minio server /data --address \":$MINIO_API_PORT\" --console-address \":$MINIO_CONSOLE_PORT\"\n",
    "# You can configure MinIO to use TLS\n",
    "#  --certs-dir value, -S value  path to certs directory (default: \"${HOME}/.minio/certs\")\n",
    "# Ref: https://min.io/docs/minio/container/operations/network-encryption.html\n"
   ]
  },
  {
   "cell_type": "code",
   "execution_count": null,
   "metadata": {
    "vscode": {
     "languageId": "shellscript"
    }
   },
   "outputs": [],
   "source": [
    "# Run a redis container for the TFE cache\n",
    "# Make sure it is a supported version.\n",
    "# Ref: https://developer.hashicorp.com/terraform/enterprise/flexible-deployments/install/requirements/data-storage/operational-mode-requirements#active-active-mode\n",
    "export REDIS_PASSWORD=mypassword\n",
    "export REDIS_PORT=6379\n",
    "\n",
    "# Optional: To pull latest image\n",
    "#docker pull redis:7\n",
    "\n",
    "# We will be using Redis v7\n",
    "docker run \\\n",
    "    -p $REDIS_PORT:$REDIS_PORT \\\n",
    "    --name redis \\\n",
    "    --rm \\\n",
    "    -e \"MINIO_ROOT_USER=$MINIO_ROOT_USER\" \\\n",
    "    -e \"MINIO_ROOT_PASSWORD=$MINIO_ROOT_PASSWORD\" \\\n",
    "    -d redis:7 redis-server --requirepass $REDIS_PASSWORD\n"
   ]
  },
  {
   "cell_type": "code",
   "execution_count": null,
   "metadata": {
    "vscode": {
     "languageId": "shellscript"
    }
   },
   "outputs": [],
   "source": [
    "# Start minikube with 1 node for the demo.  Should be around 1-2 minutes to start.\n",
    "# You can increase more nodes as required (to show a HA setup) but it will increase the start time for minikube\n",
    "# and also the loading time of the TFE containers in the later steps.\n",
    "minikube start --nodes 1"
   ]
  },
  {
   "cell_type": "code",
   "execution_count": null,
   "metadata": {
    "vscode": {
     "languageId": "shellscript"
    }
   },
   "outputs": [],
   "source": [
    "# Verify minikube, Redis, MinIO, PostgreSQL, and Vault containers are running\n",
    "docker ps"
   ]
  },
  {
   "cell_type": "code",
   "execution_count": null,
   "metadata": {
    "vscode": {
     "languageId": "shellscript"
    }
   },
   "outputs": [],
   "source": [
    "# Verify that the K8s setup is working\n",
    "kubectl get pods -A\n",
    "echo\n",
    "kubectl get svc -A"
   ]
  },
  {
   "cell_type": "code",
   "execution_count": null,
   "metadata": {
    "vscode": {
     "languageId": "shellscript"
    }
   },
   "outputs": [],
   "source": [
    "# Optional: Enable metrics on minikube\n",
    "minikube addons enable metrics-server"
   ]
  },
  {
   "cell_type": "code",
   "execution_count": null,
   "metadata": {
    "vscode": {
     "languageId": "shellscript"
    }
   },
   "outputs": [],
   "source": [
    "# Optional: Run the following commands to check on the metrics\n",
    "# Note: metrics-server will take a few minutes to start and be functional.  \n",
    "# Try again later if it says \"error: Metrics API not available\"\n",
    "kubectl top pods\n",
    "echo\n",
    "kubectl top nodes"
   ]
  },
  {
   "cell_type": "markdown",
   "metadata": {},
   "source": [
    "## Verify TFE External Services\n",
    "\n",
    "Make sure that all external services are working correctly before setting up TFE."
   ]
  },
  {
   "cell_type": "code",
   "execution_count": null,
   "metadata": {
    "vscode": {
     "languageId": "shellscript"
    }
   },
   "outputs": [],
   "source": [
    "# Verify that PostgreSQL is running properly\n",
    "\n",
    "# Setup psql alias to the container to make it easier to do CLI commands to the postgresql pod\n",
    "alias psql=\"docker exec -it postgres psql\"\n",
    "\n",
    "# Check connection info\n",
    "psql -c '\\conninfo'"
   ]
  },
  {
   "cell_type": "code",
   "execution_count": null,
   "metadata": {
    "vscode": {
     "languageId": "shellscript"
    }
   },
   "outputs": [],
   "source": [
    "# Verify that MinIO is running properly\n",
    "# Setup your MinIO client to point to your new MinIO setup with an alias called \"myminio\"\n",
    "export MINIO_ALIAS=myminio\n",
    "export MINIO_API_ADDR=http://127.0.0.1:$MINIO_API_PORT\n",
    "\n",
    "echo \"Connecting to $MINIO_API_ADDR\"\n",
    "echo \"MinIO User: $MINIO_ROOT_USER\"\n",
    "echo \"MinIO Password: $MINIO_ROOT_PASSWORD\"\n",
    "mc alias set $MINIO_ALIAS $MINIO_API_ADDR $MINIO_ROOT_USER $MINIO_ROOT_PASSWORD\n",
    "mc admin info $MINIO_ALIAS\n",
    "\n",
    "# For minio health checks, you can use this endpoint to check for 200 code.\n",
    "#curl -I http://127.0.0.1:$MINIO_API_PORT/minio/health/live"
   ]
  },
  {
   "cell_type": "code",
   "execution_count": null,
   "metadata": {
    "vscode": {
     "languageId": "shellscript"
    }
   },
   "outputs": [],
   "source": [
    "# Optional: Verify Redis is running properly\n",
    "# Authenticate, set and get a value.\n",
    "curl telnet://127.0.0.1:$REDIS_PORT << EOF\n",
    "AUTH $REDIS_PASSWORD\n",
    "SET TEST1 VALUE1\n",
    "GET TEST1\n",
    "DEL TEST1\n",
    "GET TEST1\n",
    "QUIT\n",
    "EOF"
   ]
  },
  {
   "cell_type": "markdown",
   "metadata": {},
   "source": [
    "# Setup Terraform Enterprise\n",
    "\n",
    "## Configure PostgreSQL database\n",
    "\n",
    "This requires creating a new database for TFE to install in."
   ]
  },
  {
   "cell_type": "code",
   "execution_count": null,
   "metadata": {
    "vscode": {
     "languageId": "shellscript"
    }
   },
   "outputs": [],
   "source": [
    "export TFE_DB_NAME=tfedb\n",
    "psql -c \"CREATE DATABASE $TFE_DB_NAME;\"\n",
    "\n",
    "# Verify that the tfedb is created\n",
    "psql -P pager=off -c \"\\l\""
   ]
  },
  {
   "cell_type": "markdown",
   "metadata": {},
   "source": [
    "## Configure a S3 bucket for TFE Object Storage"
   ]
  },
  {
   "cell_type": "code",
   "execution_count": null,
   "metadata": {
    "vscode": {
     "languageId": "shellscript"
    }
   },
   "outputs": [],
   "source": [
    "# Generate a bucket name\n",
    "export TFE_BUCKET_NAME=\"tfe-$(date +%s)\"\n",
    "# Set the S3 bucket region to the Minio default.\n",
    "export TFE_BUCKET_REGION=\"us-east-1\""
   ]
  },
  {
   "cell_type": "code",
   "execution_count": null,
   "metadata": {
    "vscode": {
     "languageId": "shellscript"
    }
   },
   "outputs": [],
   "source": [
    "# Create a S3 bucket on MinIO for storing TFE objects.\n",
    "# Region on MinIO defaults to 'us-east-1'\n",
    "\n",
    "# Generate a unique bucket name using prefix and unix epoch time\n",
    "# Follow bucket naming conventions - https://docs.aws.amazon.com/AmazonS3/latest/userguide/bucketnamingrules.html\n",
    "echo \"MinIO User: $MINIO_ROOT_USER\"\n",
    "echo \"MinIO Password: $MINIO_ROOT_PASSWORD\"\n",
    "# Remove the bucket if it exists\n",
    "#mc rb $MINIO_ALIAS/$TFE_BUCKET_NAME\n",
    "echo \"Creating S3 bucket on MinIO: $TFE_BUCKET_NAME\"\n",
    "mc mb --region $TFE_BUCKET_REGION $MINIO_ALIAS/$TFE_BUCKET_NAME"
   ]
  },
  {
   "cell_type": "code",
   "execution_count": null,
   "metadata": {
    "vscode": {
     "languageId": "shellscript"
    }
   },
   "outputs": [],
   "source": [
    "# Setup a S3 policy for TFE to use\n",
    "tee pol-tfe-svc.json <<EOF\n",
    "{\n",
    "    \"Version\": \"2012-10-17\",\n",
    "    \"Statement\": [\n",
    "        {\n",
    "            \"Effect\": \"Allow\",\n",
    "            \"Action\": [\n",
    "                \"s3:PutObject\",\n",
    "                \"s3:ListBucket\",\n",
    "                \"s3:GetObject\",\n",
    "                \"s3:DeleteObject\",\n",
    "                \"s3:GetBucketLocation\"\n",
    "            ],\n",
    "            \"Resource\": [\n",
    "                \"arn:aws:s3:::$TFE_BUCKET_NAME\",\n",
    "                \"arn:aws:s3:::$TFE_BUCKET_NAME/*\"\n",
    "            ]\n",
    "        }\n",
    "    ]\n",
    "}\n",
    "EOF\n",
    "# Additional permissions are needed by TFE to be able decrypt the bucket if S3 encryption is turned on\n",
    "# MinIO Key Encryption Service (KES) supports S3 encryption with different KMS including HashiCorp Vault.\n",
    "# Ref: https://min.io/docs/minio/linux/administration/server-side-encryption/server-side-encryption-sse-kms.html\n",
    "# Ref: https://min.io/docs/minio/linux/operations/server-side-encryption/configure-minio-kes-hashicorp.html#minio-sse-vault\n",
    "#     \"Effect\": \"Allow\",\n",
    "#     \"Action\": [\n",
    "#         \"kms:Decrypt\",\n",
    "#         \"kms:Encrypt\",\n",
    "#         \"kms:DescribeKey\",\n",
    "#         \"kms:ReEncrypt*\",\n",
    "#         \"kms:GenerateDataKey*\"\n",
    "#     ],\n",
    "#     \"Resource\": [\n",
    "#         \"<KMS_KEY_ARN>\"\n",
    "#     ]\n",
    "\n",
    "mc admin policy create $MINIO_ALIAS pol-tfe-svc pol-tfe-svc.json\n",
    "rm pol-tfe-svc.json"
   ]
  },
  {
   "cell_type": "code",
   "execution_count": null,
   "metadata": {
    "vscode": {
     "languageId": "shellscript"
    }
   },
   "outputs": [],
   "source": [
    "# Verify that the new pol-tfe-svc S3 policy is created\n",
    "mc admin policy list $MINIO_ALIAS"
   ]
  },
  {
   "cell_type": "code",
   "execution_count": null,
   "metadata": {
    "vscode": {
     "languageId": "shellscript"
    }
   },
   "outputs": [],
   "source": [
    "# Create a new IAM programmatic credentials in MinIO with the created policy\n",
    "export AWS_ACCESS_KEY_ID=$(openssl rand -base64 20 | tr -dc 'a-zA-Z0-9') # Generate random string of length 20\n",
    "export AWS_SECRET_ACCESS_KEY=$(openssl rand -base64 20 | tr -dc 'a-zA-Z0-9')\n",
    "mc admin user add $MINIO_ALIAS $AWS_ACCESS_KEY_ID $AWS_SECRET_ACCESS_KEY\n",
    "mc admin policy attach $MINIO_ALIAS pol-tfe-svc --user $AWS_ACCESS_KEY_ID"
   ]
  },
  {
   "cell_type": "code",
   "execution_count": null,
   "metadata": {
    "vscode": {
     "languageId": "shellscript"
    }
   },
   "outputs": [],
   "source": [
    "# Optional.  You can log into minio to view the create bucket, user, and policy.\n",
    "echo \"MinIO User: $MINIO_ROOT_USER\"\n",
    "echo \"MinIO Password: $MINIO_ROOT_PASSWORD\"\n",
    "open http://127.0.0.1:9090"
   ]
  },
  {
   "cell_type": "code",
   "execution_count": null,
   "metadata": {
    "vscode": {
     "languageId": "shellscript"
    }
   },
   "outputs": [],
   "source": [
    "# Verify that you can connect to the S3 bucket using the AWS CLI\n",
    "echo \"AWS_ACCESS_KEY_ID: $AWS_ACCESS_KEY_ID\"\n",
    "echo \"AWS_SECRET_ACCESS_KEY: $AWS_SECRET_ACCESS_KEY\"\n",
    "echo \"S3 endpoint: $MINIO_API_ADDR\"\n",
    "\n",
    "# unset the AWS_SESSION_TOKEN if it is set, otherwise there will be an error\n",
    "unset AWS_SESSION_TOKEN\n",
    "\n",
    "# Verify that the new credentials can see the TFE S3 bucket\n",
    "echo\n",
    "echo \"Listing buckets:\"\n",
    "aws --region $TFE_BUCKET_REGION --endpoint-url $MINIO_API_ADDR s3 ls\n",
    "echo\n",
    "echo \"Writing test file\"\n",
    "# Write a test file\n",
    "echo \"hello world\" | aws --region $TFE_BUCKET_REGION --endpoint-url $MINIO_API_ADDR s3 cp - s3://$TFE_BUCKET_NAME/hello.txt\n",
    "# List S3 bucket contents.  You should see the test file listed.\n",
    "echo\n",
    "echo \"Listing bucket $TFE_BUCKET_NAME contents:\"\n",
    "aws --region $TFE_BUCKET_REGION --endpoint-url $MINIO_API_ADDR s3 ls s3://$TFE_BUCKET_NAME\n",
    "echo\n",
    "echo \"Removing test file\"\n",
    "# Remove test file\n",
    "aws --region $TFE_BUCKET_REGION --endpoint-url $MINIO_API_ADDR s3 rm s3://$TFE_BUCKET_NAME/hello.txt"
   ]
  },
  {
   "cell_type": "markdown",
   "metadata": {},
   "source": [
    "## Generate PKI certificates for your TFE cluster\n",
    "\n",
    "We will be using Vault's PKI engine to generate private TLS certificates for use by this TFE cluster."
   ]
  },
  {
   "cell_type": "code",
   "execution_count": null,
   "metadata": {
    "vscode": {
     "languageId": "shellscript"
    }
   },
   "outputs": [],
   "source": [
    "# Enable PKI engine at the default mount path\n",
    "vault secrets enable pki"
   ]
  },
  {
   "cell_type": "code",
   "execution_count": null,
   "metadata": {
    "vscode": {
     "languageId": "shellscript"
    }
   },
   "outputs": [],
   "source": [
    "# configure max lease ttl on certificates - 8760h or 365 days\n",
    "vault secrets tune -max-lease-ttl=8760h pki"
   ]
  },
  {
   "cell_type": "code",
   "execution_count": null,
   "metadata": {
    "vscode": {
     "languageId": "shellscript"
    }
   },
   "outputs": [],
   "source": [
    "# Create the CA, the private key is kept inside Vault.\n",
    "# Alternatively, generate an intermediate CA and sign with your root CA.\n",
    "# CA cert is valid for 8760h or 365 days\n",
    "# As Docker Desktop configures kubernetes.docker.internal to resolve to the host,\n",
    "# we will be using this domain and address for the TLS certificates.\n",
    "export DOMAIN_NAME=docker.internal\n",
    "\n",
    "vault write pki/root/generate/internal \\\n",
    "    common_name=$DOMAIN_NAME \\\n",
    "    ttl=8760h"
   ]
  },
  {
   "cell_type": "code",
   "execution_count": null,
   "metadata": {
    "vscode": {
     "languageId": "shellscript"
    }
   },
   "outputs": [],
   "source": [
    "# configure Vault with the URL's for CRL\n",
    "vault write pki/config/urls \\\n",
    "    issuing_certificates=\"$VAULT_ADDR/v1/pki/ca,host.minikube.internal:$VAULT_PORT\" \\\n",
    "    crl_distribution_points=\"$VAULT_ADDR/v1/pki/crl,host.minikube.internal:$VAULT_PORT\""
   ]
  },
  {
   "cell_type": "code",
   "execution_count": null,
   "metadata": {
    "vscode": {
     "languageId": "shellscript"
    }
   },
   "outputs": [],
   "source": [
    "# Store the CA certificate to import into your keychain.  Using keychain app to import in.\n",
    "\n",
    "# Create folder to store certs\n",
    "mkdir certs\n",
    "\n",
    "# Export CA certificate\n",
    "curl http://127.0.0.1:8200/v1/pki/ca_chain > certs/ca.crt\n",
    "open certs/ca.crt"
   ]
  },
  {
   "cell_type": "code",
   "execution_count": null,
   "metadata": {
    "vscode": {
     "languageId": "shellscript"
    }
   },
   "outputs": [],
   "source": [
    "# Note: To avoid cert warnings, open keychain app and configure CA cert for docker.internal to Always Trust in the properties\n",
    "# Enter your password or Touch ID when prompted.\n",
    "open -a \"keychain Access.app\""
   ]
  },
  {
   "cell_type": "markdown",
   "metadata": {},
   "source": [
    "<img src=\"images/trust-ca-cert.png\">"
   ]
  },
  {
   "cell_type": "code",
   "execution_count": null,
   "metadata": {
    "vscode": {
     "languageId": "shellscript"
    }
   },
   "outputs": [],
   "source": [
    "# Create the certs for the TFE setup\n",
    "# For now, using the entry \"kubernetes.docker.internal\" configured by Docker Desktop to avoid DNS setup\n",
    "echo \"Domain Name: $DOMAIN_NAME\"\n",
    "\n",
    "export TFE_CLUSTER_NAME=kubernetes.$DOMAIN_NAME\n",
    "\n",
    "vault write pki/roles/tfe-web-role \\\n",
    "    allowed_domains=$DOMAIN_NAME \\\n",
    "    allow_subdomains=true \\\n",
    "    max_ttl=8760h"
   ]
  },
  {
   "cell_type": "code",
   "execution_count": null,
   "metadata": {
    "vscode": {
     "languageId": "shellscript"
    }
   },
   "outputs": [],
   "source": [
    "# Generate the web cert and place it in the nginx folder\n",
    "echo \"TFE Cluster Name: $TFE_CLUSTER_NAME\"\n",
    "\n",
    "vault write -format=json pki/issue/tfe-web-role \\\n",
    "    common_name=$TFE_CLUSTER_NAME > cert.json\n",
    "\n",
    "jq -r .data.certificate < cert.json > certs/cert.pem\n",
    "jq -r .data.private_key < cert.json > certs/cert.key\n",
    "\n"
   ]
  },
  {
   "cell_type": "markdown",
   "metadata": {},
   "source": [
    "## Setup TFE Cluster with Helm\n",
    "\n",
    "As we have prepared our external storage services and certificates, we can now proceed to setup TFE on the K8s cluster.\n",
    "\n",
    "Ref: https://developer.hashicorp.com/terraform/enterprise/flexible-deployments/install/kubernetes/install"
   ]
  },
  {
   "cell_type": "code",
   "execution_count": null,
   "metadata": {
    "vscode": {
     "languageId": "shellscript"
    }
   },
   "outputs": [],
   "source": [
    "# Optional: View list of TFE versions\n",
    "# Update the location of your license file as required\n",
    "export TFE_LICENSE=$(cat $HOME/tfe-fdo-enterprise/terraform.hclic)\n",
    "curl -s https://images.releases.hashicorp.com/v2/hashicorp/terraform-enterprise/tags/list -u terraform:$TFE_LICENSE \\\n",
    "| jq -r '[.tags[] | select (. | startswith(\"v\"))] | sort_by(\".\") | reverse'\n",
    "\n",
    "# Set TFE_VERSION to the version you wish to use"
   ]
  },
  {
   "cell_type": "code",
   "execution_count": null,
   "metadata": {
    "vscode": {
     "languageId": "shellscript"
    }
   },
   "outputs": [],
   "source": [
    "# Log into the TFE FDO repo with your license and pull the TFE docker image\n",
    "# Update the location of your license file as required\n",
    "export TFE_LICENSE=$(cat $HOME/tfe-fdo-enterprise/terraform.hclic)\n",
    "export TFE_VERSION=v202401-2\n",
    "\n",
    "# Verify that you are able to log in and pull the docker image from your machine\n",
    "echo $TFE_LICENSE |  docker login --username terraform images.releases.hashicorp.com --password-stdin\n",
    "docker pull images.releases.hashicorp.com/hashicorp/terraform-enterprise:$TFE_VERSION"
   ]
  },
  {
   "cell_type": "code",
   "execution_count": null,
   "metadata": {
    "vscode": {
     "languageId": "shellscript"
    }
   },
   "outputs": [],
   "source": [
    "# Pre-load the TFE docker image into the minikube nodes. Takes around 3-4 minutes on 1 worker node and will take longer with more nodes.\n",
    "# This is to avoid image pull issues from the minikube nodes. \n",
    "minikube image load images.releases.hashicorp.com/hashicorp/terraform-enterprise:$TFE_VERSION"
   ]
  },
  {
   "cell_type": "code",
   "execution_count": null,
   "metadata": {
    "vscode": {
     "languageId": "shellscript"
    }
   },
   "outputs": [],
   "source": [
    "# Verify the TFE image is loaded in minikube.  Images are cached in ~/.minikube/cache/images\n",
    "minikube image list | grep terraform"
   ]
  },
  {
   "cell_type": "code",
   "execution_count": null,
   "metadata": {
    "vscode": {
     "languageId": "shellscript"
    }
   },
   "outputs": [],
   "source": [
    "# Create a K8s namespace for your TFE cluster\n",
    "export TFE_NAMESPACE=tfe-ns\n",
    "\n",
    "kubectl create ns $TFE_NAMESPACE"
   ]
  },
  {
   "cell_type": "code",
   "execution_count": null,
   "metadata": {
    "vscode": {
     "languageId": "shellscript"
    }
   },
   "outputs": [],
   "source": [
    "# Create an image pull secret in <TFE_NAMESPACE> to fetch the terraform-enterprise container from the <DOCKER_REGISTRY_URL>.\n",
    "# This URL can be images.releases.hashicorp.com, or your internal container registry.  e.g. airgap setups.\n",
    "# This step is important otherwise you will get an ImagePullErr on your TFE pod when running the helm installation\n",
    "# (even if you have used minikube image load)\n",
    "kubectl create secret docker-registry terraform-enterprise --docker-server=images.releases.hashicorp.com \\\n",
    "    --docker-username=terraform --docker-password=$TFE_LICENSE  -n $TFE_NAMESPACE"
   ]
  },
  {
   "cell_type": "code",
   "execution_count": null,
   "metadata": {
    "vscode": {
     "languageId": "shellscript"
    }
   },
   "outputs": [],
   "source": [
    "# Add the HashiCorp repo (Only required for the first time)\n",
    "helm repo add hashicorp https://helm.releases.hashicorp.com"
   ]
  },
  {
   "cell_type": "code",
   "execution_count": null,
   "metadata": {
    "vscode": {
     "languageId": "shellscript"
    }
   },
   "outputs": [],
   "source": [
    "# Optional.  Update the repo (Only required when new versions are released)\n",
    "helm repo update"
   ]
  },
  {
   "cell_type": "code",
   "execution_count": null,
   "metadata": {
    "vscode": {
     "languageId": "shellscript"
    }
   },
   "outputs": [],
   "source": [
    "# Ref: https://developer.hashicorp.com/terraform/enterprise/flexible-deployments/install/kubernetes/requirements\n",
    "# As we are using MinIO for the S3 compatible storage, TFE_OBJECT_STORAGE_S3_USE_INSTANCE_PROFILE will be set to false.\n",
    "echo \"TFE Cluster Name: $TFE_CLUSTER_NAME\"\n",
    "echo \"Installing in K8s namespace: $TFE_NAMESPACE\"\n",
    "echo \"TFE Cluster name: $TFE_CLUSTER_NAME\"\n",
    "echo \"TFE Database name: $TFE_DB_NAME\"\n",
    "echo \"PostgreSQL Username: $PGUSER\"\n",
    "echo \"PostgreSQL Username: $PGPASSWORD\"\n",
    "echo \"PostgreSQL Port Number: $PGPORT\"\n",
    "echo \"Redis Port Number: $REDIS_PORT\"\n",
    "echo \"Redis Password: $REDIS_PASSWORD\"\n",
    "echo \"S3 endpoint: $MINIO_API_ADDR\"\n",
    "echo \"S3 Bucket name: $TFE_BUCKET_NAME\"\n",
    "echo \"AWS_ACCESS_KEY_ID: $AWS_ACCESS_KEY_ID\"\n",
    "echo \"AWS_SECRET_ACCESS_KEY: $AWS_SECRET_ACCESS_KEY\"\n",
    "\n",
    "# remove existing temporary values.yaml if it exists\n",
    "rm values.yaml\n",
    "# Set TFE encryption password\n",
    "export TFE_ENCRYPTION_PASSWORD=encryptme\n",
    "# For full list of parameters, see this.\n",
    "# Ref: https://developer.hashicorp.com/terraform/enterprise/flexible-deployments/install/configuration\n",
    "# See helm chart default values\n",
    "# Ref: https://github.com/hashicorp/terraform-enterprise-helm/blob/main/values.yaml\n",
    "tee values.yaml <<EOF\n",
    "replicaCount: 1\n",
    "service:\n",
    "  type: NodePort\n",
    "  port: 443\n",
    "  targetPort: 8443\n",
    "  nodePort: 32443\n",
    "tls:\n",
    "  certData: $(cat certs/cert.pem | base64)\n",
    "  keyData: $(cat certs/cert.key | base64)\n",
    "  caCertData: $(cat certs/ca.crt | base64)\n",
    "image:\n",
    "  repository: images.releases.hashicorp.com\n",
    "  name: hashicorp/terraform-enterprise\n",
    "  tag: $TFE_VERSION\n",
    "env:\n",
    "  variables:\n",
    "    TFE_HOSTNAME: $TFE_CLUSTER_NAME\n",
    "    TFE_IACT_SUBNETS: 0.0.0.0/0\n",
    "    TFE_DATABASE_HOST: host.minikube.internal:$PGPORT\n",
    "    TFE_DATABASE_NAME: $TFE_DB_NAME\n",
    "    TFE_DATABASE_PARAMETERS: sslmode=disable\n",
    "    TFE_DATABASE_USER: $PGUSER\n",
    "    TFE_REDIS_HOST: host.minikube.internal:$REDIS_PORT\n",
    "    TFE_REDIS_USE_TLS: false\n",
    "    TFE_REDIS_USE_AUTH: true\n",
    "    TFE_OBJECT_STORAGE_TYPE: s3\n",
    "    TFE_OBJECT_STORAGE_S3_USE_INSTANCE_PROFILE: false\n",
    "    TFE_OBJECT_STORAGE_S3_BUCKET: $TFE_BUCKET_NAME\n",
    "    TFE_OBJECT_STORAGE_S3_ENDPOINT: http://host.minikube.internal:$MINIO_API_PORT\n",
    "    TFE_OBJECT_STORAGE_S3_REGION: $TFE_BUCKET_REGION\n",
    "    TFE_CAPACITY_CONCURRENCY: 10\n",
    "  secrets:\n",
    "    TFE_DATABASE_PASSWORD: $PGPASSWORD\n",
    "    TFE_OBJECT_STORAGE_S3_ACCESS_KEY_ID: $AWS_ACCESS_KEY_ID\n",
    "    TFE_OBJECT_STORAGE_S3_SECRET_ACCESS_KEY: $AWS_SECRET_ACCESS_KEY\n",
    "    TFE_REDIS_PASSWORD: $REDIS_PASSWORD\n",
    "    TFE_LICENSE: $TFE_LICENSE\n",
    "    TFE_ENCRYPTION_PASSWORD: $TFE_ENCRYPTION_PASSWORD\n",
    "EOF\n",
    "#    TFE_HTTP_PORT: 80\n",
    "#    TFE_HTTPS_PORT: 443\n",
    "\n",
    "# Render the terraform-enterprise chart with your custom values file\n",
    "#helm template terraform-enterprise hashicorp/terraform-enterprise --values values.yaml -n $TFE_NAMESPACE \n",
    "# Install TFE with helm using the configuration values\n",
    "# helm delete terraform-enterprise -n $TFE_NAMESPACE\n",
    "helm install terraform-enterprise hashicorp/terraform-enterprise --values values.yaml -n $TFE_NAMESPACE "
   ]
  },
  {
   "cell_type": "code",
   "execution_count": null,
   "metadata": {
    "vscode": {
     "languageId": "shellscript"
    }
   },
   "outputs": [],
   "source": [
    "# Verify that the TFE deployment is up and running.  There is also a NodePort configuration configured\n",
    "kubectl get deployments -n $TFE_NAMESPACE\n",
    "echo\n",
    "kubectl get pods -n $TFE_NAMESPACE\n",
    "echo\n",
    "kubectl get services -n $TFE_NAMESPACE"
   ]
  },
  {
   "cell_type": "code",
   "execution_count": null,
   "metadata": {
    "vscode": {
     "languageId": "shellscript"
    }
   },
   "outputs": [],
   "source": [
    "# For troubleshooting, if the TFE pod is running you can use K9s to open a shell into the TFE pod to check the individual logs \n",
    "# Ref: https://developer.hashicorp.com/terraform/enterprise/flexible-deployments/troubleshooting\n",
    "open /opt/homebrew/bin/k9s\n",
    "# Type '0' to view all namespaces\n",
    "# Select the TFE pod and type 's' to open a shell\n",
    "# Run this command to check the status of all TFE services.  All services should be running except postgres and redis.\n",
    "# supervisorctl status\n",
    "# All the logs for each component is here.  Check each log for errors.\n",
    "# cd /var/log/terraform-enterprise\n",
    "# Grep for all errors in the current folder for the word 'error' (case insensitive option)\n",
    "# grep -r -i . -e 'error'\n",
    "# Check for listening ports\n",
    "# ss -tuln"
   ]
  },
  {
   "cell_type": "markdown",
   "metadata": {},
   "source": [
    "## Setup Ingress on Minikube with the NGINX Ingress Controller\n",
    "\n",
    "Ref: https://kubernetes.io/docs/tasks/access-application-cluster/ingress-minikube/\n"
   ]
  },
  {
   "cell_type": "code",
   "execution_count": null,
   "metadata": {
    "vscode": {
     "languageId": "shellscript"
    }
   },
   "outputs": [],
   "source": [
    "# Step 1 - Enable the Ingress Controller\n",
    "minikube addons enable ingress"
   ]
  },
  {
   "cell_type": "code",
   "execution_count": null,
   "metadata": {
    "vscode": {
     "languageId": "shellscript"
    }
   },
   "outputs": [],
   "source": [
    "# Verify that the ingress controller pods are running in the ingress-nginx namespace\n",
    "kubectl get pods -n ingress-nginx"
   ]
  },
  {
   "cell_type": "code",
   "execution_count": null,
   "metadata": {
    "vscode": {
     "languageId": "shellscript"
    }
   },
   "outputs": [],
   "source": [
    "# The TFE installation configures the TLS certificates in a K8s secret called \"terraform-enterprise-certificates\"\n",
    "# View TLS certificate details in K8s secret\n",
    "kubectl -n $TFE_NAMESPACE describe secret terraform-enterprise-certificates\n",
    "echo\n",
    "kubectl -n $TFE_NAMESPACE get secrets terraform-enterprise-certificates --output=json | jq -r '.data'"
   ]
  },
  {
   "cell_type": "code",
   "execution_count": null,
   "metadata": {
    "vscode": {
     "languageId": "shellscript"
    }
   },
   "outputs": [],
   "source": [
    "# For the Ingress configuration, we will be reusing the TLS certificate configured by the TFE setup\n",
    "# Otherwise if not specified, Kubernetes Ingress Controller generates a fake test certificate\n",
    "\n",
    "# Create an Ingress for TFE\n",
    "echo \"TFE Cluster Name: $TFE_CLUSTER_NAME\"\n",
    "\n",
    "kubectl apply -n $TFE_NAMESPACE  -f - <<EOF\n",
    "apiVersion: networking.k8s.io/v1 \n",
    "kind: Ingress \n",
    "metadata: \n",
    "  annotations: \n",
    "    nginx.ingress.kubernetes.io/force-ssl-redirect: \"true\"\n",
    "    nginx.ingress.kubernetes.io/backend-protocol: \"HTTPS\"\n",
    "  name: terraform-enterprise\n",
    "  namespace: $TFE_NAMESPACE\n",
    "spec: \n",
    "  rules: \n",
    "  - host: $TFE_CLUSTER_NAME\n",
    "    http: \n",
    "      paths: \n",
    "      - backend: \n",
    "          service:\n",
    "            name: \"terraform-enterprise\"\n",
    "            port: \n",
    "              number: 443\n",
    "        path: \"/\"\n",
    "        pathType: \"Prefix\" \n",
    "  tls: \n",
    "  - hosts: \n",
    "    - $TFE_CLUSTER_NAME\n",
    "    secretName: terraform-enterprise-certificates\n",
    "EOF"
   ]
  },
  {
   "cell_type": "code",
   "execution_count": null,
   "metadata": {
    "vscode": {
     "languageId": "shellscript"
    }
   },
   "outputs": [],
   "source": [
    "# Verify the ingress is created\n",
    "kubectl get ingress -n $TFE_NAMESPACE"
   ]
  },
  {
   "cell_type": "code",
   "execution_count": null,
   "metadata": {
    "vscode": {
     "languageId": "shellscript"
    }
   },
   "outputs": [],
   "source": [
    "# Important Step for the host to be able to access the TFE console!\n",
    "# Run this in an external terminal window to expose port 443 to the host machine.\n",
    "# Use hotkey Ctrl + Shift + ` to open terminal in VS Code (MacOS)\n",
    "# Copy and run this command in the terminal window.  Do not run it here!\n",
    "\n",
    "# minikube tunnel\n",
    "\n",
    "# Note: You will need to key in your password\n"
   ]
  },
  {
   "cell_type": "markdown",
   "metadata": {},
   "source": [
    "## Get the Initial Admin Creation Token (IACT) and Create the First TFE Admin User"
   ]
  },
  {
   "cell_type": "code",
   "execution_count": null,
   "metadata": {
    "vscode": {
     "languageId": "shellscript"
    }
   },
   "outputs": [],
   "source": [
    "# Get name of first terraform pod\n",
    "export TFE_POD_NAME=$(kubectl get pod -o jsonpath=\"{.items[0].metadata.name}\" -n $TFE_NAMESPACE)\n",
    "\n",
    "echo \"TFE First Pod Name: $TFE_POD_NAME\"\n",
    "\n",
    "# Initial Admin Creation Token\n",
    "# https://developer.hashicorp.com/terraform/enterprise/flexible-deployments/install/initial-admin-user\n",
    "\n",
    "export IACT_TOKEN=$(kubectl exec -it $TFE_POD_NAME -n $TFE_NAMESPACE -- retrieve-iact)\n",
    "echo \"IACT Token: $IACT_TOKEN\"\n",
    "\n",
    "open https://$TFE_CLUSTER_NAME/admin/account/new?token=$IACT_TOKEN\n",
    "\n",
    "# Enter initial admin details and create your first TFE organization.\n"
   ]
  },
  {
   "cell_type": "markdown",
   "metadata": {},
   "source": [
    "# Cleanup"
   ]
  },
  {
   "cell_type": "code",
   "execution_count": null,
   "metadata": {
    "vscode": {
     "languageId": "shellscript"
    }
   },
   "outputs": [],
   "source": [
    "# Cleanup\n",
    "\n",
    "# Delete TFE\n",
    "helm delete terraform-enterprise -n $TFE_NAMESPACE\n",
    "\n",
    "# stop vault\n",
    "docker stop vault-enterprise\n",
    "\n",
    "# stop postgres\n",
    "docker stop postgres\n",
    "\n",
    "# stop redis\n",
    "docker stop redis\n",
    "\n",
    "# stop minio and clean up data folder\n",
    "docker stop minio\n",
    "rm -r ${HOME}/minio/data\n",
    "\n",
    "# Clear up generated certs\n",
    "rm -r certs\n",
    "\n",
    "# Remove temp files\n",
    "rm cert.json\n",
    "rm values.yaml\n",
    "\n",
    "# stop minikube\n",
    "minikube delete"
   ]
  },
  {
   "cell_type": "code",
   "execution_count": null,
   "metadata": {
    "vscode": {
     "languageId": "shellscript"
    }
   },
   "outputs": [],
   "source": [
    "# Manual Cleanup step\n",
    "open -a \"keychain Access.app\"\n",
    "# Remove the docker.internal certificate"
   ]
  },
  {
   "cell_type": "code",
   "execution_count": null,
   "metadata": {
    "vscode": {
     "languageId": "shellscript"
    }
   },
   "outputs": [],
   "source": [
    "# Optional: Remove docker image in minikube.  This is useful if you are running out of disk space and want to clear older versions.\n",
    "# Note that you still need to clear the image from ~/.minikube/cache/images\n",
    "minikube image rm images.releases.hashicorp.com/hashicorp/terraform-enterprise:$TFE_VERSION\n",
    "open ~/.minikube/cache/images"
   ]
  },
  {
   "cell_type": "markdown",
   "metadata": {},
   "source": [
    "Lastly use Ctrl-C in the terminal window to exit out of the minikube tunnel"
   ]
  },
  {
   "cell_type": "markdown",
   "metadata": {},
   "source": [
    "# End of Demo"
   ]
  },
  {
   "cell_type": "markdown",
   "metadata": {},
   "source": [
    "# Appendix - Other Useful Commands"
   ]
  },
  {
   "cell_type": "code",
   "execution_count": null,
   "metadata": {
    "vscode": {
     "languageId": "shellscript"
    }
   },
   "outputs": [],
   "source": [
    "# Optional: Add metrics-server to be able to view CPU and memory usage\n",
    "helm repo add metrics-server https://kubernetes-sigs.github.io/metrics-server/\n",
    "helm repo update\n",
    "helm upgrade --install --set args={--kubelet-insecure-tls} metrics-server metrics-server/metrics-server --namespace kube-system"
   ]
  },
  {
   "cell_type": "code",
   "execution_count": null,
   "metadata": {
    "vscode": {
     "languageId": "shellscript"
    }
   },
   "outputs": [],
   "source": [
    "# For testing connectivity.  Bash shell to a temporary pod and do curl commands\n",
    "kubectl run my-shell --rm -i --tty --image ubuntu -- bash\n",
    "apt update\n",
    "apt install curl\n",
    "curl http://host.minikube.internal:8200 "
   ]
  },
  {
   "cell_type": "markdown",
   "metadata": {},
   "source": [
    "## Docker Commands"
   ]
  },
  {
   "cell_type": "code",
   "execution_count": null,
   "metadata": {
    "vscode": {
     "languageId": "shellscript"
    }
   },
   "outputs": [],
   "source": [
    "# Docker network commands\n",
    "# Internal host name - host.docker.internal\n",
    "docker network ls\n",
    "docker network connect <network> <container>\n",
    "docker network create --driver bridge vso-connect\n",
    "\n",
    "# Get IP address of Vault pod\n",
    "docker inspect -f '{{range .NetworkSettings.Networks}}{{.IPAddress}}{{end}}' vault-enterprise\n"
   ]
  },
  {
   "cell_type": "code",
   "execution_count": null,
   "metadata": {
    "vscode": {
     "languageId": "shellscript"
    }
   },
   "outputs": [],
   "source": [
    "# Reclaim space used by docker if you get a \"no space left on device\" error\n",
    "docker system prune --all --force --volumes"
   ]
  },
  {
   "cell_type": "code",
   "execution_count": null,
   "metadata": {
    "vscode": {
     "languageId": "shellscript"
    }
   },
   "outputs": [],
   "source": [
    "# Optional for troubleshooting common issues\n",
    "\n",
    "# docker ps -a\n",
    "# docker exec -it tfe-worker sh\n",
    "\n",
    "# Image pull issues\n",
    "# SSH into minikube.  Verify that you can pull the docker image.\n",
    "echo \"Run this command to log into an SSH shell on minikube\"\n",
    "echo\n",
    "echo \"minikube ssh -n minikube\"\n",
    "echo\n",
    "echo \"Run these commands in the minikube SSH shell to verify that you can login to the private repo and pull the image properly\"\n",
    "echo\n",
    "echo \"docker login --username terraform images.releases.hashicorp.com\"\n",
    "echo \"docker pull images.releases.hashicorp.com/hashicorp/terraform-enterprise:$TFE_VERSION\"\n",
    "echo\n",
    "echo \"Enter this password when prompted:\"\n",
    "echo\n",
    "echo $TFE_LICENSE"
   ]
  },
  {
   "cell_type": "markdown",
   "metadata": {},
   "source": [
    "## K8s Commands"
   ]
  },
  {
   "cell_type": "code",
   "execution_count": null,
   "metadata": {
    "vscode": {
     "languageId": "shellscript"
    }
   },
   "outputs": [],
   "source": [
    "# Get pods example\n",
    "kubectl get pods -n $TFE_NAMESPACE\n",
    "\n",
    "kubectl get pods -o wide -n $TFE_NAMESPACE  "
   ]
  },
  {
   "cell_type": "code",
   "execution_count": null,
   "metadata": {
    "vscode": {
     "languageId": "shellscript"
    }
   },
   "outputs": [],
   "source": [
    "# View all K8s pod details - wide format\n",
    "kubectl get pod -o wide -A\n",
    "\n",
    "# Getting K8s secrets sample\n",
    "kubectl get secrets -n $KUBENAMESPACE  --output=json | jq -r '.items[].metadata | select(.name|startswith(\"vault-token-\")).name'"
   ]
  },
  {
   "cell_type": "code",
   "execution_count": null,
   "metadata": {
    "vscode": {
     "languageId": "shellscript"
    }
   },
   "outputs": [],
   "source": [
    "# Delete deployment and services example\n",
    "kubectl delete deployment -n $KUBENAMESPACE vso-db-demo\n",
    "kubectl delete services -n $TFE_NAMESPACE terraform-enterprise"
   ]
  },
  {
   "cell_type": "code",
   "execution_count": null,
   "metadata": {
    "vscode": {
     "languageId": "shellscript"
    }
   },
   "outputs": [],
   "source": [
    "# Clean up namespaces if they are not terminating gracefully\n",
    "kubectl proxy &\n",
    "kubectl get namespace tfe-ns-agents -o json |jq '.spec = {\"finalizers\":[]}' >temp.json\n",
    "curl -k -H \"Content-Type: application/json\" -X PUT --data-binary @temp.json 127.0.0.1:8001/api/v1/namespaces/tfe-ns-agents/finalize"
   ]
  },
  {
   "cell_type": "code",
   "execution_count": null,
   "metadata": {
    "vscode": {
     "languageId": "shellscript"
    }
   },
   "outputs": [],
   "source": [
    "# Display nodeports for terraform-enterprise\n",
    "kubectl get service terraform-enterprise --output='jsonpath=\"{.spec.ports[0].nodePort}\"' -n $TFE_NAMESPACE"
   ]
  },
  {
   "cell_type": "code",
   "execution_count": null,
   "metadata": {
    "vscode": {
     "languageId": "shellscript"
    }
   },
   "outputs": [],
   "source": [
    "# Exposing Node Ports\n",
    "kubectl expose deployment terraform-enterprise --type=NodePort --port=8080 -n $TFE_NAMESPACE\n",
    "kubectl expose deployment terraform-enterprise --type=NodePort --port=8443 -n $TFE_NAMESPACE\n"
   ]
  },
  {
   "cell_type": "code",
   "execution_count": null,
   "metadata": {
    "vscode": {
     "languageId": "shellscript"
    }
   },
   "outputs": [],
   "source": [
    "# Creating cert secret from files\n",
    "kubectl -n $TFE_NAMESPACE create secret generic terraform-enterprise-certificates --from-file=./certs/"
   ]
  },
  {
   "cell_type": "code",
   "execution_count": null,
   "metadata": {
    "vscode": {
     "languageId": "shellscript"
    }
   },
   "outputs": [],
   "source": [
    "# Deleting ingress\n",
    "kubectl delete ingress -n $TFE_NAMESPACE terraform-enterprise"
   ]
  },
  {
   "cell_type": "markdown",
   "metadata": {},
   "source": [
    "## minikube Commands"
   ]
  },
  {
   "cell_type": "code",
   "execution_count": null,
   "metadata": {
    "vscode": {
     "languageId": "shellscript"
    }
   },
   "outputs": [],
   "source": [
    "# View add-ons\n",
    "minikube addons list"
   ]
  },
  {
   "cell_type": "code",
   "execution_count": null,
   "metadata": {
    "vscode": {
     "languageId": "shellscript"
    }
   },
   "outputs": [],
   "source": [
    "# Launch K8s dashboard\n",
    "minikube dashboard"
   ]
  },
  {
   "cell_type": "code",
   "execution_count": null,
   "metadata": {
    "vscode": {
     "languageId": "shellscript"
    }
   },
   "outputs": [],
   "source": [
    "# Follow minikube logs\n",
    "new minikube logs -f"
   ]
  },
  {
   "cell_type": "markdown",
   "metadata": {},
   "source": [
    "## kind Commands"
   ]
  },
  {
   "cell_type": "code",
   "execution_count": null,
   "metadata": {
    "vscode": {
     "languageId": "shellscript"
    }
   },
   "outputs": [],
   "source": [
    "# Install kind\n",
    "brew install kind"
   ]
  },
  {
   "cell_type": "code",
   "execution_count": null,
   "metadata": {
    "vscode": {
     "languageId": "shellscript"
    }
   },
   "outputs": [],
   "source": [
    "# Start a kind cluster with 3 node (3 nodes for the TFE cluster)\n",
    "# Ref: https://kind.sigs.k8s.io/docs/user/ingress/\n",
    "export TFE_K8S_CLUSTER_NAME=tfe\n",
    "\n",
    "kind create cluster --name $TFE_K8S_CLUSTER_NAME --image kindest/node:v1.28.0 --config - <<EOF\n",
    "kind: Cluster\n",
    "apiVersion: kind.x-k8s.io/v1alpha4\n",
    "nodes:\n",
    "- role: control-plane\n",
    "  kubeadmConfigPatches:\n",
    "  - |\n",
    "    kind: InitConfiguration\n",
    "    nodeRegistration:\n",
    "      kubeletExtraArgs:\n",
    "        node-labels: \"ingress-ready=true\"\n",
    "  extraPortMappings:\n",
    "  - containerPort: 443\n",
    "    hostPort: 443\n",
    "    listenAddress: \"0.0.0.0\" # Optional, defaults to \"0.0.0.0\"\n",
    "    protocol: tcp # Optional, defaults to tcp\n",
    "- role: worker\n",
    "- role: worker\n",
    "- role: worker\n",
    "EOF"
   ]
  },
  {
   "cell_type": "code",
   "execution_count": null,
   "metadata": {
    "vscode": {
     "languageId": "shellscript"
    }
   },
   "outputs": [],
   "source": [
    "# Setup Ingress nginx for kind\n",
    "kubectl apply -f https://raw.githubusercontent.com/kubernetes/ingress-nginx/main/deploy/static/provider/kind/deploy.yaml\n",
    "\n",
    "# Wait until ingress is ready to process requests\n",
    "kubectl wait --namespace ingress-nginx \\\n",
    "  --for=condition=ready pod \\\n",
    "  --selector=app.kubernetes.io/component=controller \\\n",
    "  --timeout=90s"
   ]
  },
  {
   "cell_type": "code",
   "execution_count": null,
   "metadata": {
    "vscode": {
     "languageId": "shellscript"
    }
   },
   "outputs": [],
   "source": [
    "# Load the TFE docker image into the kind nodes\n",
    "kind load docker-image images.releases.hashicorp.com/hashicorp/terraform-enterprise:$TFE_VERSION -n $TFE_K8S_CLUSTER_NAME"
   ]
  },
  {
   "cell_type": "code",
   "execution_count": null,
   "metadata": {
    "vscode": {
     "languageId": "shellscript"
    }
   },
   "outputs": [],
   "source": [
    "# Delete kind cluster\n",
    "kind delete cluster --name $TFE_K8S_CLUSTER_NAME"
   ]
  }
 ],
 "metadata": {
  "kernelspec": {
   "display_name": "Bash",
   "language": "bash",
   "name": "bash"
  },
  "language_info": {
   "codemirror_mode": "shell",
   "file_extension": ".sh",
   "mimetype": "text/x-sh",
   "name": "bash"
  }
 },
 "nbformat": 4,
 "nbformat_minor": 4
}
